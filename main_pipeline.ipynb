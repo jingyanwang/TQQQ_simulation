{
 "cells": [
  {
   "cell_type": "markdown",
   "id": "21850e45-dd22-4fcd-af2f-2709cac877bc",
   "metadata": {},
   "source": [
    "# QLD simulation"
   ]
  },
  {
   "cell_type": "code",
   "execution_count": null,
   "id": "0be30920-90fa-45c8-80a7-a7770eb7f083",
   "metadata": {},
   "outputs": [],
   "source": [
    "%run nasdaq_100_2x_simulation.ipynb"
   ]
  },
  {
   "cell_type": "markdown",
   "id": "b7e3dcf2-6bfb-47f8-8ccc-fc3c447d1bed",
   "metadata": {},
   "source": [
    "# TQQQ simulation"
   ]
  },
  {
   "cell_type": "code",
   "execution_count": null,
   "id": "f57afee9-694e-40ea-9dd5-c3f70d3f22e5",
   "metadata": {},
   "outputs": [],
   "source": [
    "%run nasdaq_100_3x_simulation.ipynb"
   ]
  },
  {
   "cell_type": "markdown",
   "id": "77aa7252-4ac7-44d8-a220-33b35b7d6c1f",
   "metadata": {},
   "source": [
    "# sp 500 X2 simulation"
   ]
  },
  {
   "cell_type": "code",
   "execution_count": null,
   "id": "d197a8fc-1f0c-4b7d-b3b6-417a73f4758d",
   "metadata": {},
   "outputs": [],
   "source": [
    "%run sp_500_2x_simulation.ipynb"
   ]
  },
  {
   "cell_type": "markdown",
   "id": "bf86fced-d806-462a-9db1-41b98e5a07b2",
   "metadata": {},
   "source": [
    "# sp 500 X3 simulation"
   ]
  },
  {
   "cell_type": "code",
   "execution_count": null,
   "id": "7379ad5c-073b-4ff9-b99b-5a3a0c8b8094",
   "metadata": {},
   "outputs": [],
   "source": [
    "%run sp_500_3x_simulation.ipynb"
   ]
  },
  {
   "cell_type": "markdown",
   "id": "442ee751-c39c-4e72-a586-d47301b36582",
   "metadata": {},
   "source": [
    "# return analysis"
   ]
  },
  {
   "cell_type": "code",
   "execution_count": null,
   "id": "c8387c49-607e-48cd-8589-b94b47cd2bb4",
   "metadata": {},
   "outputs": [],
   "source": [
    "%run return_analysis.ipynb"
   ]
  }
 ],
 "metadata": {
  "kernelspec": {
   "display_name": "Python 3 (ipykernel)",
   "language": "python",
   "name": "python3"
  },
  "language_info": {
   "codemirror_mode": {
    "name": "ipython",
    "version": 3
   },
   "file_extension": ".py",
   "mimetype": "text/x-python",
   "name": "python",
   "nbconvert_exporter": "python",
   "pygments_lexer": "ipython3",
   "version": "3.10.0"
  }
 },
 "nbformat": 4,
 "nbformat_minor": 5
}
