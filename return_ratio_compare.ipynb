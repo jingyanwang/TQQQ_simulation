{
 "cells": [
  {
   "cell_type": "code",
   "execution_count": 1,
   "id": "01660543-e9ae-4cfb-88d3-dcd9cac77612",
   "metadata": {},
   "outputs": [],
   "source": [
    "%run setting.ipynb"
   ]
  },
  {
   "cell_type": "markdown",
   "id": "2fad6552-4e98-4905-8c20-1a96f0cf82b6",
   "metadata": {},
   "source": [
    "# load data"
   ]
  },
  {
   "cell_type": "code",
   "execution_count": 2,
   "id": "f5794359-22cc-4faf-aa8b-fccf47e2fcf7",
   "metadata": {},
   "outputs": [],
   "source": [
    "TQQQ_simulation = pd.read_excel('TQQQ_simulation.xlsx')"
   ]
  },
  {
   "cell_type": "code",
   "execution_count": 3,
   "id": "c9f56ae6-34db-480c-adc0-962bec4ce615",
   "metadata": {},
   "outputs": [],
   "source": [
    "QLD_simulation = pd.read_excel('QLD_simulation.xlsx')"
   ]
  },
  {
   "cell_type": "code",
   "execution_count": 4,
   "id": "d46413b1-78ce-4b5b-aed1-7d1b303dd6f6",
   "metadata": {},
   "outputs": [],
   "source": [
    "NDX = pd.read_csv('^NDX.csv')"
   ]
  },
  {
   "cell_type": "code",
   "execution_count": 5,
   "id": "98dccae3-4f0e-48eb-a057-f41f2611915f",
   "metadata": {},
   "outputs": [
    {
     "name": "stderr",
     "output_type": "stream",
     "text": [
      "C:\\Users\\jimwa\\AppData\\Local\\Programs\\Python\\Python310\\lib\\site-packages\\yfinance\\utils.py:771: FutureWarning: The 'unit' keyword in TimedeltaIndex construction is deprecated and will be removed in a future version. Use pd.to_timedelta instead.\n",
      "  df.index += _pd.TimedeltaIndex(dst_error_hours, 'h')\n"
     ]
    }
   ],
   "source": [
    "GSPC = yf.Ticker('^GSPC').history(\n",
    "    period='max', \n",
    "    interval='1d', \n",
    "    actions=False)\n",
    "\n",
    "GSPC = GSPC.reset_index()\n",
    "GSPC['id'] = GSPC.index\n",
    "GSPC['Date'] = pd.to_datetime(GSPC['Date']).dt.date"
   ]
  },
  {
   "cell_type": "code",
   "execution_count": 6,
   "id": "8992e935-24db-4dad-af7a-0e7a05e0e82e",
   "metadata": {},
   "outputs": [],
   "source": [
    "SPXL_simulation = pd.read_excel('SPXL_simulation.xlsx')"
   ]
  },
  {
   "cell_type": "markdown",
   "id": "1c0bfb02-2473-4efa-a4c6-ae55e4a89ce6",
   "metadata": {},
   "source": [
    "# dataframe to table"
   ]
  },
  {
   "cell_type": "code",
   "execution_count": 7,
   "id": "59dafe7f-d237-44ff-9646-8e91c1b9bdc2",
   "metadata": {},
   "outputs": [
    {
     "data": {
      "text/plain": [
       "24185"
      ]
     },
     "execution_count": 7,
     "metadata": {},
     "output_type": "execute_result"
    }
   ],
   "source": [
    "df_to_table(TQQQ_simulation, 'TQQQ')\n",
    "df_to_table(QLD_simulation, 'QDL')\n",
    "df_to_table(NDX, 'NDX')\n",
    "\n",
    "##\n",
    "\n",
    "df_to_table(GSPC, 'GSPC')\n",
    "df_to_table(SPXL_simulation, 'SPXL')"
   ]
  },
  {
   "cell_type": "markdown",
   "id": "fc341a3b-16ad-46a1-bdbc-3400d604aaeb",
   "metadata": {},
   "source": [
    "# join all the stocks"
   ]
  },
  {
   "cell_type": "code",
   "execution_count": 10,
   "id": "ab104eef-640d-4663-b0d0-567508bd2804",
   "metadata": {},
   "outputs": [
    {
     "data": {
      "text/plain": [
       "9709"
      ]
     },
     "execution_count": 10,
     "metadata": {},
     "output_type": "execute_result"
    }
   ],
   "source": [
    "sql_to_table(f\"\"\"\n",
    "select a.Date,\n",
    "a.Close as NDX,\n",
    "--\n",
    "b.simulated_QLD,\n",
    "c.simulated_TQQQ,\n",
    "d.Close as GSPC,\n",
    "e.simulated_SPXL\n",
    "--\n",
    "from NDX as a \n",
    "--\n",
    "join QDL as b on a.Date = b.Date\n",
    "join TQQQ as c on a.Date = c.Date\n",
    "join GSPC as d on a.Date = d.Date\n",
    "join SPXL as e on a.Date = e.Date\n",
    "\"\"\", 'all_data')"
   ]
  },
  {
   "cell_type": "markdown",
   "id": "86b8cc5e-9a61-43bc-8802-f64eb7281f69",
   "metadata": {},
   "source": [
    "# compare to the first day"
   ]
  },
  {
   "cell_type": "code",
   "execution_count": 16,
   "id": "ba8b9726-fd66-4ff0-bbc9-25edbe7fc444",
   "metadata": {},
   "outputs": [],
   "source": [
    "sql(f\"\"\"\n",
    "\n",
    "with a as (\n",
    "select *\n",
    "from all_data\n",
    "order by Date asc\n",
    "limit 1\n",
    ")\n",
    "\n",
    "select b.*,\n",
    "--\n",
    "b.NDX/a.NDX as NDX_rate,\n",
    "b.simulated_QLD/a.simulated_QLD as QLD_rate,\n",
    "b.simulated_TQQQ/a.simulated_TQQQ as TQQQ_rate,\n",
    "b.GSPC/a.GSPC as GSPC_rate,\n",
    "b.simulated_SPXL/a.simulated_SPXL as SPXL_rate\n",
    "--\n",
    "from all_data as b, a\n",
    "\"\"\").to_excel(f'rate.xlsx', index = False)"
   ]
  },
  {
   "cell_type": "markdown",
   "id": "358d320f-56c1-490a-9fc2-8decbc73f7e1",
   "metadata": {},
   "source": [
    "# end"
   ]
  }
 ],
 "metadata": {
  "kernelspec": {
   "display_name": "Python 3 (ipykernel)",
   "language": "python",
   "name": "python3"
  },
  "language_info": {
   "codemirror_mode": {
    "name": "ipython",
    "version": 3
   },
   "file_extension": ".py",
   "mimetype": "text/x-python",
   "name": "python",
   "nbconvert_exporter": "python",
   "pygments_lexer": "ipython3",
   "version": "3.10.0"
  }
 },
 "nbformat": 4,
 "nbformat_minor": 5
}
