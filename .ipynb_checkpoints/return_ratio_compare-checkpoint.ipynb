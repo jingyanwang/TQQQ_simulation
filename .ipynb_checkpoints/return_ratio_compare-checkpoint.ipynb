{
 "cells": [
  {
   "cell_type": "code",
   "execution_count": 1,
   "id": "01660543-e9ae-4cfb-88d3-dcd9cac77612",
   "metadata": {},
   "outputs": [],
   "source": [
    "%run setting.ipynb"
   ]
  },
  {
   "cell_type": "markdown",
   "id": "2fad6552-4e98-4905-8c20-1a96f0cf82b6",
   "metadata": {},
   "source": [
    "# load data"
   ]
  },
  {
   "cell_type": "code",
   "execution_count": 2,
   "id": "f5794359-22cc-4faf-aa8b-fccf47e2fcf7",
   "metadata": {},
   "outputs": [],
   "source": [
    "TQQQ_simulation = pd.read_excel('TQQQ_simulation.xlsx')"
   ]
  },
  {
   "cell_type": "code",
   "execution_count": 3,
   "id": "c9f56ae6-34db-480c-adc0-962bec4ce615",
   "metadata": {},
   "outputs": [],
   "source": [
    "QLD_simulation = pd.read_excel('QLD_simulation.xlsx')"
   ]
  },
  {
   "cell_type": "code",
   "execution_count": 4,
   "id": "d46413b1-78ce-4b5b-aed1-7d1b303dd6f6",
   "metadata": {},
   "outputs": [],
   "source": [
    "NDX = pd.read_csv('^NDX.csv')"
   ]
  },
  {
   "cell_type": "code",
   "execution_count": 5,
   "id": "98dccae3-4f0e-48eb-a057-f41f2611915f",
   "metadata": {},
   "outputs": [
    {
     "name": "stderr",
     "output_type": "stream",
     "text": [
      "C:\\Users\\jimwa\\AppData\\Local\\Programs\\Python\\Python310\\lib\\site-packages\\yfinance\\utils.py:771: FutureWarning: The 'unit' keyword in TimedeltaIndex construction is deprecated and will be removed in a future version. Use pd.to_timedelta instead.\n",
      "  df.index += _pd.TimedeltaIndex(dst_error_hours, 'h')\n"
     ]
    }
   ],
   "source": [
    "GSPC = yf.Ticker('^GSPC').history(\n",
    "    period='max', \n",
    "    interval='1d', \n",
    "    actions=False)\n",
    "\n",
    "GSPC = GSPC.reset_index()\n",
    "GSPC['id'] = GSPC.index\n",
    "GSPC['Date'] = pd.to_datetime(GSPC['Date']).dt.date"
   ]
  },
  {
   "cell_type": "code",
   "execution_count": 6,
   "id": "8992e935-24db-4dad-af7a-0e7a05e0e82e",
   "metadata": {},
   "outputs": [],
   "source": [
    "SPXL_simulation = pd.read_excel('SPXL_simulation.xlsx')"
   ]
  },
  {
   "cell_type": "markdown",
   "id": "1c0bfb02-2473-4efa-a4c6-ae55e4a89ce6",
   "metadata": {},
   "source": [
    "# dataframe to table"
   ]
  },
  {
   "cell_type": "code",
   "execution_count": 7,
   "id": "59dafe7f-d237-44ff-9646-8e91c1b9bdc2",
   "metadata": {},
   "outputs": [
    {
     "data": {
      "text/plain": [
       "24185"
      ]
     },
     "execution_count": 7,
     "metadata": {},
     "output_type": "execute_result"
    }
   ],
   "source": [
    "df_to_table(TQQQ_simulation, 'TQQQ')\n",
    "df_to_table(QLD_simulation, 'QDL')\n",
    "df_to_table(NDX, 'NDX')\n",
    "\n",
    "##\n",
    "\n",
    "df_to_table(GSPC, 'GSPC')\n",
    "df_to_table(SPXL_simulation, 'SPXL')"
   ]
  },
  {
   "cell_type": "markdown",
   "id": "fc341a3b-16ad-46a1-bdbc-3400d604aaeb",
   "metadata": {},
   "source": [
    "# join all the stocks"
   ]
  },
  {
   "cell_type": "code",
   "execution_count": 10,
   "id": "ab104eef-640d-4663-b0d0-567508bd2804",
   "metadata": {},
   "outputs": [
    {
     "data": {
      "text/plain": [
       "9709"
      ]
     },
     "execution_count": 10,
     "metadata": {},
     "output_type": "execute_result"
    }
   ],
   "source": [
    "sql_to_table(f\"\"\"\n",
    "select a.Date,\n",
    "a.Close as NDX,\n",
    "--\n",
    "b.simulated_QLD,\n",
    "c.simulated_TQQQ,\n",
    "d.Close as GSPC,\n",
    "e.simulated_SPXL\n",
    "--\n",
    "from NDX as a \n",
    "--\n",
    "join QDL as b on a.Date = b.Date\n",
    "join TQQQ as c on a.Date = c.Date\n",
    "join GSPC as d on a.Date = d.Date\n",
    "join SPXL as e on a.Date = e.Date\n",
    "\"\"\", 'all_data')"
   ]
  },
  {
   "cell_type": "code",
   "execution_count": 14,
   "id": "ba8b9726-fd66-4ff0-bbc9-25edbe7fc444",
   "metadata": {},
   "outputs": [
    {
     "data": {
      "text/html": [
       "<div>\n",
       "<style scoped>\n",
       "    .dataframe tbody tr th:only-of-type {\n",
       "        vertical-align: middle;\n",
       "    }\n",
       "\n",
       "    .dataframe tbody tr th {\n",
       "        vertical-align: top;\n",
       "    }\n",
       "\n",
       "    .dataframe thead th {\n",
       "        text-align: right;\n",
       "    }\n",
       "</style>\n",
       "<table border=\"1\" class=\"dataframe\">\n",
       "  <thead>\n",
       "    <tr style=\"text-align: right;\">\n",
       "      <th></th>\n",
       "      <th>Date</th>\n",
       "      <th>NDX</th>\n",
       "      <th>simulated_QLD</th>\n",
       "      <th>simulated_TQQQ</th>\n",
       "      <th>GSPC</th>\n",
       "      <th>simulated_SPXL</th>\n",
       "      <th>NDX_rate</th>\n",
       "    </tr>\n",
       "  </thead>\n",
       "  <tbody>\n",
       "    <tr>\n",
       "      <th>0</th>\n",
       "      <td>1985-10-02</td>\n",
       "      <td>110.824997</td>\n",
       "      <td>0.555690</td>\n",
       "      <td>0.556895</td>\n",
       "      <td>184.059998</td>\n",
       "      <td>0.095978</td>\n",
       "      <td>1.000000</td>\n",
       "    </tr>\n",
       "    <tr>\n",
       "      <th>1</th>\n",
       "      <td>1985-10-03</td>\n",
       "      <td>110.870003</td>\n",
       "      <td>0.555729</td>\n",
       "      <td>0.556951</td>\n",
       "      <td>184.360001</td>\n",
       "      <td>0.097843</td>\n",
       "      <td>1.000406</td>\n",
       "    </tr>\n",
       "    <tr>\n",
       "      <th>2</th>\n",
       "      <td>1985-10-04</td>\n",
       "      <td>110.074997</td>\n",
       "      <td>0.555040</td>\n",
       "      <td>0.555964</td>\n",
       "      <td>183.220001</td>\n",
       "      <td>0.090734</td>\n",
       "      <td>0.993233</td>\n",
       "    </tr>\n",
       "    <tr>\n",
       "      <th>3</th>\n",
       "      <td>1985-10-07</td>\n",
       "      <td>108.199997</td>\n",
       "      <td>0.553426</td>\n",
       "      <td>0.553671</td>\n",
       "      <td>181.869995</td>\n",
       "      <td>0.082421</td>\n",
       "      <td>0.976314</td>\n",
       "    </tr>\n",
       "    <tr>\n",
       "      <th>4</th>\n",
       "      <td>1985-10-08</td>\n",
       "      <td>107.160004</td>\n",
       "      <td>0.552546</td>\n",
       "      <td>0.552443</td>\n",
       "      <td>181.869995</td>\n",
       "      <td>0.082421</td>\n",
       "      <td>0.966930</td>\n",
       "    </tr>\n",
       "    <tr>\n",
       "      <th>...</th>\n",
       "      <td>...</td>\n",
       "      <td>...</td>\n",
       "      <td>...</td>\n",
       "      <td>...</td>\n",
       "      <td>...</td>\n",
       "      <td>...</td>\n",
       "      <td>...</td>\n",
       "    </tr>\n",
       "    <tr>\n",
       "      <th>9704</th>\n",
       "      <td>2024-04-05</td>\n",
       "      <td>18108.460938</td>\n",
       "      <td>92.255812</td>\n",
       "      <td>69.873407</td>\n",
       "      <td>5204.339844</td>\n",
       "      <td>143.131985</td>\n",
       "      <td>163.396900</td>\n",
       "    </tr>\n",
       "    <tr>\n",
       "      <th>9705</th>\n",
       "      <td>2024-04-08</td>\n",
       "      <td>18100.189453</td>\n",
       "      <td>92.171996</td>\n",
       "      <td>69.778358</td>\n",
       "      <td>5202.390137</td>\n",
       "      <td>142.970799</td>\n",
       "      <td>163.322264</td>\n",
       "    </tr>\n",
       "    <tr>\n",
       "      <th>9706</th>\n",
       "      <td>2024-04-09</td>\n",
       "      <td>18169.900391</td>\n",
       "      <td>92.878066</td>\n",
       "      <td>70.578684</td>\n",
       "      <td>5209.910156</td>\n",
       "      <td>143.592027</td>\n",
       "      <td>163.951282</td>\n",
       "    </tr>\n",
       "    <tr>\n",
       "      <th>9707</th>\n",
       "      <td>2024-04-10</td>\n",
       "      <td>18011.660156</td>\n",
       "      <td>91.269173</td>\n",
       "      <td>68.748044</td>\n",
       "      <td>5160.640137</td>\n",
       "      <td>139.510090</td>\n",
       "      <td>162.523444</td>\n",
       "    </tr>\n",
       "    <tr>\n",
       "      <th>9708</th>\n",
       "      <td>2024-04-11</td>\n",
       "      <td>18307.980469</td>\n",
       "      <td>94.255514</td>\n",
       "      <td>72.115863</td>\n",
       "      <td>5199.060059</td>\n",
       "      <td>142.632336</td>\n",
       "      <td>165.197212</td>\n",
       "    </tr>\n",
       "  </tbody>\n",
       "</table>\n",
       "<p>9709 rows × 7 columns</p>\n",
       "</div>"
      ],
      "text/plain": [
       "            Date           NDX  simulated_QLD  simulated_TQQQ         GSPC  \\\n",
       "0     1985-10-02    110.824997       0.555690        0.556895   184.059998   \n",
       "1     1985-10-03    110.870003       0.555729        0.556951   184.360001   \n",
       "2     1985-10-04    110.074997       0.555040        0.555964   183.220001   \n",
       "3     1985-10-07    108.199997       0.553426        0.553671   181.869995   \n",
       "4     1985-10-08    107.160004       0.552546        0.552443   181.869995   \n",
       "...          ...           ...            ...             ...          ...   \n",
       "9704  2024-04-05  18108.460938      92.255812       69.873407  5204.339844   \n",
       "9705  2024-04-08  18100.189453      92.171996       69.778358  5202.390137   \n",
       "9706  2024-04-09  18169.900391      92.878066       70.578684  5209.910156   \n",
       "9707  2024-04-10  18011.660156      91.269173       68.748044  5160.640137   \n",
       "9708  2024-04-11  18307.980469      94.255514       72.115863  5199.060059   \n",
       "\n",
       "      simulated_SPXL    NDX_rate  \n",
       "0           0.095978    1.000000  \n",
       "1           0.097843    1.000406  \n",
       "2           0.090734    0.993233  \n",
       "3           0.082421    0.976314  \n",
       "4           0.082421    0.966930  \n",
       "...              ...         ...  \n",
       "9704      143.131985  163.396900  \n",
       "9705      142.970799  163.322264  \n",
       "9706      143.592027  163.951282  \n",
       "9707      139.510090  162.523444  \n",
       "9708      142.632336  165.197212  \n",
       "\n",
       "[9709 rows x 7 columns]"
      ]
     },
     "execution_count": 14,
     "metadata": {},
     "output_type": "execute_result"
    }
   ],
   "source": [
    "sql(f\"\"\"\n",
    "\n",
    "with a as (\n",
    "select *\n",
    "from all_data\n",
    "order by Date asc\n",
    "limit 1\n",
    ")\n",
    "\n",
    "select b.*,\n",
    "--\n",
    "b.NDX/a.NDX as NDX_rate,\n",
    "b.simulated_QLD/a.simulated_QLD as QLD_rate,\n",
    "b.simulated_TQQQ/a.simulated_TQQQ as TQQQ_rate,\n",
    "b.GSPC/a.GSPC as GSPC_rate,\n",
    "b.simulated_SPXL/a.simulated_SPXL as SPXL_rate\n",
    "--\n",
    "from all_data as b, a\n",
    "\"\"\")"
   ]
  }
 ],
 "metadata": {
  "kernelspec": {
   "display_name": "Python 3 (ipykernel)",
   "language": "python",
   "name": "python3"
  },
  "language_info": {
   "codemirror_mode": {
    "name": "ipython",
    "version": 3
   },
   "file_extension": ".py",
   "mimetype": "text/x-python",
   "name": "python",
   "nbconvert_exporter": "python",
   "pygments_lexer": "ipython3",
   "version": "3.10.0"
  }
 },
 "nbformat": 4,
 "nbformat_minor": 5
}
