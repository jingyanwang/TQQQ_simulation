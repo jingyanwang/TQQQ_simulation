{
 "cells": [
  {
   "cell_type": "code",
   "execution_count": null,
   "id": "2d503d57",
   "metadata": {},
   "outputs": [],
   "source": [
    "%run setting.ipynb"
   ]
  },
  {
   "cell_type": "code",
   "execution_count": null,
   "id": "c96097b3",
   "metadata": {},
   "outputs": [],
   "source": [
    "import os\n",
    "import re\n",
    "import pandas as pd\n",
    "from pandasql import sqldf\n",
    "import yfinance as yf\n",
    "\n",
    "pysqldf = lambda q: sqldf(q, globals())"
   ]
  },
  {
   "cell_type": "code",
   "execution_count": null,
   "id": "3e7b21e1",
   "metadata": {},
   "outputs": [],
   "source": [
    "import numpy as np\n",
    "from sklearn.linear_model import LinearRegression\n",
    "import plotly.express as px"
   ]
  },
  {
   "cell_type": "markdown",
   "id": "afbbc209-e87f-4ea6-886f-55efd51f5188",
   "metadata": {},
   "source": [
    "# load data"
   ]
  },
  {
   "cell_type": "code",
   "execution_count": null,
   "id": "d69c4e31-57c5-4d38-a4d8-87d42cb74f7f",
   "metadata": {},
   "outputs": [],
   "source": [
    "data = pd.read_csv('TQQQ.csv', delimiter = ',')\n",
    "\n",
    "data.to_sql(\n",
    "    \"data\", \n",
    "    conn,\n",
    "    if_exists = \"replace\",\n",
    "    )"
   ]
  },
  {
   "cell_type": "code",
   "execution_count": null,
   "id": "13dd6571-886a-4eaf-8750-24736e367a18",
   "metadata": {},
   "outputs": [],
   "source": [
    "data"
   ]
  },
  {
   "cell_type": "markdown",
   "id": "c7de2d17-0a37-4980-ad47-d91c979721ce",
   "metadata": {},
   "source": [
    "# daily rebalance"
   ]
  },
  {
   "cell_type": "code",
   "execution_count": null,
   "id": "cc170f73-26eb-4b5d-9ac7-999cb51cb7c4",
   "metadata": {},
   "outputs": [],
   "source": [
    "df = data\n",
    "df['price'] = df['Open']\n",
    "records = df.to_dict('records')"
   ]
  },
  {
   "cell_type": "code",
   "execution_count": null,
   "id": "07a5db75-d422-47f2-8c2e-a63b9fdaa491",
   "metadata": {
    "scrolled": true
   },
   "outputs": [],
   "source": [
    "invested_amount = 1.0\n",
    "\n",
    "previouse_stock_position = invested_amount\n",
    "previouse_price = records[0]['price']\n",
    "\n",
    "cash_position = 0.0\n",
    "\n",
    "for r in records:\n",
    "    r['current_stock_position'] = r['price']/previouse_price*previouse_stock_position\n",
    "    # \n",
    "\n",
    "    cash_position += (r['current_stock_position'] - invested_amount)\n",
    "    r['current_stock_position'] = invested_amount\n",
    "\n",
    "    #\n",
    "    r['current_cash_position'] = cash_position\n",
    "    # \n",
    "    previouse_price = r['price']\n",
    "    previouse_stock_position = r['current_stock_position']        "
   ]
  },
  {
   "cell_type": "code",
   "execution_count": null,
   "id": "bf84f3af-abeb-40d0-9b32-507522d51ec9",
   "metadata": {},
   "outputs": [],
   "source": [
    "records[-1]"
   ]
  },
  {
   "cell_type": "code",
   "execution_count": null,
   "id": "02ec08fa-3106-4de2-ab32-cc35d0e140f7",
   "metadata": {},
   "outputs": [],
   "source": [
    "df = pd.DataFrame(records)\n",
    "\n",
    "fig = px.line(\n",
    "df, x='Date', \n",
    "y = [\n",
    "f\"current_cash_position\",\n",
    "],\n",
    ")\n",
    "\n",
    "fig.show()"
   ]
  },
  {
   "cell_type": "code",
   "execution_count": null,
   "id": "8e8b7e7c-c3f7-485b-af93-1483cf4b88c9",
   "metadata": {},
   "outputs": [],
   "source": [
    "df = pd.DataFrame(records)\n",
    "\n",
    "fig = px.line(\n",
    "df, x='Date', \n",
    "y = [\n",
    "f\"price\",\n",
    "],\n",
    ")\n",
    "\n",
    "fig.show()"
   ]
  },
  {
   "cell_type": "markdown",
   "id": "0d2ab7ba",
   "metadata": {},
   "source": [
    "# END"
   ]
  }
 ],
 "metadata": {
  "kernelspec": {
   "display_name": "Python 3 (ipykernel)",
   "language": "python",
   "name": "python3"
  },
  "language_info": {
   "codemirror_mode": {
    "name": "ipython",
    "version": 3
   },
   "file_extension": ".py",
   "mimetype": "text/x-python",
   "name": "python",
   "nbconvert_exporter": "python",
   "pygments_lexer": "ipython3",
   "version": "3.10.0"
  }
 },
 "nbformat": 4,
 "nbformat_minor": 5
}
