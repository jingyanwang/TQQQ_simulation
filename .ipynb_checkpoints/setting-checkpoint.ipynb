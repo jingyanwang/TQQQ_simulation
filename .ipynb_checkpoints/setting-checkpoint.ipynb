{
 "cells": [
  {
   "cell_type": "code",
   "execution_count": null,
   "id": "8b84bb21",
   "metadata": {},
   "outputs": [],
   "source": [
    "import os\n",
    "import re\n",
    "import datetime\n",
    "\n",
    "import pandas as pd\n",
    "import numpy as np"
   ]
  },
  {
   "cell_type": "code",
   "execution_count": null,
   "id": "a3f258a2-43f2-435c-a640-912af319de7c",
   "metadata": {},
   "outputs": [],
   "source": []
  },
  {
   "cell_type": "code",
   "execution_count": null,
   "id": "d957ac9d-866d-4880-9a5a-38b8e1a4bf0e",
   "metadata": {},
   "outputs": [],
   "source": [
    "import sqlite3\n",
    "\n",
    "conn = sqlite3.connect(\n",
    "    ':memory:',\n",
    "    check_same_thread = False,\n",
    "    )\n",
    "\n",
    "sql = lambda cmd: pd.read_sql(cmd, conn)"
   ]
  },
  {
   "cell_type": "code",
   "execution_count": null,
   "id": "ef84a9c2-a448-47e3-9441-89956f4ee2c6",
   "metadata": {},
   "outputs": [],
   "source": []
  },
  {
   "cell_type": "code",
   "execution_count": 1,
   "id": "9a86cf76-cb16-4322-a69a-fcc0e34a2afb",
   "metadata": {},
   "outputs": [],
   "source": [
    "sql_to_table = lambda cmd, table_name : sql(cmd).to_sql(\n",
    "name=table_name, \n",
    "con = conn,\n",
    "if_exists='replace', \n",
    "index=False,\n",
    ")"
   ]
  },
  {
   "cell_type": "code",
   "execution_count": null,
   "id": "e7576d5e-f7fc-47cc-bff3-876232f3e46a",
   "metadata": {},
   "outputs": [],
   "source": []
  },
  {
   "cell_type": "code",
   "execution_count": null,
   "id": "eff083f3-c236-4210-a538-56f5979a1b7d",
   "metadata": {},
   "outputs": [],
   "source": []
  },
  {
   "cell_type": "code",
   "execution_count": null,
   "id": "f1d4c217",
   "metadata": {},
   "outputs": [],
   "source": [
    "import yfinance as yf\n",
    "import plotly.express as px"
   ]
  },
  {
   "cell_type": "code",
   "execution_count": null,
   "id": "630e50c6",
   "metadata": {},
   "outputs": [],
   "source": [
    "create_table = lambda q, t: pd.read_sql(q, conn).to_sql(\n",
    "    t, \n",
    "    conn,\n",
    "    if_exists = \"replace\",\n",
    "    )"
   ]
  },
  {
   "cell_type": "code",
   "execution_count": null,
   "id": "2c02ded8",
   "metadata": {},
   "outputs": [],
   "source": [
    "import plotly.express as px"
   ]
  },
  {
   "cell_type": "markdown",
   "id": "37604fa6",
   "metadata": {},
   "source": [
    "# path"
   ]
  },
  {
   "cell_type": "code",
   "execution_count": null,
   "id": "311cdc36",
   "metadata": {},
   "outputs": [],
   "source": [
    "data_path = \"C:\\\\data\\\\stock\""
   ]
  }
 ],
 "metadata": {
  "kernelspec": {
   "display_name": "Python 3 (ipykernel)",
   "language": "python",
   "name": "python3"
  },
  "language_info": {
   "codemirror_mode": {
    "name": "ipython",
    "version": 3
   },
   "file_extension": ".py",
   "mimetype": "text/x-python",
   "name": "python",
   "nbconvert_exporter": "python",
   "pygments_lexer": "ipython3",
   "version": "3.10.0"
  }
 },
 "nbformat": 4,
 "nbformat_minor": 5
}
