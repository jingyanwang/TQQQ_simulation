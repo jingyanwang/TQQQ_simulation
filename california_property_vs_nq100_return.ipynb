{
 "cells": [
  {
   "cell_type": "code",
   "execution_count": 2,
   "id": "818459f6-5a05-4683-a2e0-599334361289",
   "metadata": {
    "tags": []
   },
   "outputs": [],
   "source": [
    "%run setting.ipynb"
   ]
  },
  {
   "cell_type": "markdown",
   "id": "88f729c5-ecbf-4d0e-b88f-7683cc6c3dda",
   "metadata": {},
   "source": [
    "# read property price data"
   ]
  },
  {
   "cell_type": "markdown",
   "id": "826e478d-cf44-4489-b818-42bc03518c26",
   "metadata": {},
   "source": [
    "https://fred.stlouisfed.org/series/CASTHPI"
   ]
  },
  {
   "cell_type": "code",
   "execution_count": 6,
   "id": "bce7d061-a3b2-4dc2-81d0-b3f4e6b8e5cb",
   "metadata": {
    "tags": []
   },
   "outputs": [],
   "source": [
    "hpi_po_monthly_hist = pd.read_excel('CASTHPI.xls')\n",
    "\n",
    "for c in hpi_po_monthly_hist:\n",
    "    hpi_po_monthly_hist = hpi_po_monthly_hist.rename(columns={c: re.sub(r'[^A-z]+', '_', c.strip())})"
   ]
  },
  {
   "cell_type": "code",
   "execution_count": 7,
   "id": "3ed0bd38-43c0-4663-9419-0b8266198497",
   "metadata": {
    "tags": []
   },
   "outputs": [
    {
     "data": {
      "text/html": [
       "<div>\n",
       "<style scoped>\n",
       "    .dataframe tbody tr th:only-of-type {\n",
       "        vertical-align: middle;\n",
       "    }\n",
       "\n",
       "    .dataframe tbody tr th {\n",
       "        vertical-align: top;\n",
       "    }\n",
       "\n",
       "    .dataframe thead th {\n",
       "        text-align: right;\n",
       "    }\n",
       "</style>\n",
       "<table border=\"1\" class=\"dataframe\">\n",
       "  <thead>\n",
       "    <tr style=\"text-align: right;\">\n",
       "      <th></th>\n",
       "      <th>observation_date</th>\n",
       "      <th>CASTHPI</th>\n",
       "    </tr>\n",
       "  </thead>\n",
       "  <tbody>\n",
       "    <tr>\n",
       "      <th>0</th>\n",
       "      <td>1975-01-01</td>\n",
       "      <td>41.69</td>\n",
       "    </tr>\n",
       "    <tr>\n",
       "      <th>1</th>\n",
       "      <td>1975-04-01</td>\n",
       "      <td>42.77</td>\n",
       "    </tr>\n",
       "    <tr>\n",
       "      <th>2</th>\n",
       "      <td>1975-07-01</td>\n",
       "      <td>44.36</td>\n",
       "    </tr>\n",
       "    <tr>\n",
       "      <th>3</th>\n",
       "      <td>1975-10-01</td>\n",
       "      <td>45.79</td>\n",
       "    </tr>\n",
       "    <tr>\n",
       "      <th>4</th>\n",
       "      <td>1976-01-01</td>\n",
       "      <td>47.82</td>\n",
       "    </tr>\n",
       "    <tr>\n",
       "      <th>...</th>\n",
       "      <td>...</td>\n",
       "      <td>...</td>\n",
       "    </tr>\n",
       "    <tr>\n",
       "      <th>192</th>\n",
       "      <td>2023-01-01</td>\n",
       "      <td>891.14</td>\n",
       "    </tr>\n",
       "    <tr>\n",
       "      <th>193</th>\n",
       "      <td>2023-04-01</td>\n",
       "      <td>913.78</td>\n",
       "    </tr>\n",
       "    <tr>\n",
       "      <th>194</th>\n",
       "      <td>2023-07-01</td>\n",
       "      <td>927.98</td>\n",
       "    </tr>\n",
       "    <tr>\n",
       "      <th>195</th>\n",
       "      <td>2023-10-01</td>\n",
       "      <td>930.34</td>\n",
       "    </tr>\n",
       "    <tr>\n",
       "      <th>196</th>\n",
       "      <td>2024-01-01</td>\n",
       "      <td>942.55</td>\n",
       "    </tr>\n",
       "  </tbody>\n",
       "</table>\n",
       "<p>197 rows × 2 columns</p>\n",
       "</div>"
      ],
      "text/plain": [
       "    observation_date  CASTHPI\n",
       "0         1975-01-01    41.69\n",
       "1         1975-04-01    42.77\n",
       "2         1975-07-01    44.36\n",
       "3         1975-10-01    45.79\n",
       "4         1976-01-01    47.82\n",
       "..               ...      ...\n",
       "192       2023-01-01   891.14\n",
       "193       2023-04-01   913.78\n",
       "194       2023-07-01   927.98\n",
       "195       2023-10-01   930.34\n",
       "196       2024-01-01   942.55\n",
       "\n",
       "[197 rows x 2 columns]"
      ]
     },
     "execution_count": 7,
     "metadata": {},
     "output_type": "execute_result"
    }
   ],
   "source": [
    "hpi_po_monthly_hist"
   ]
  },
  {
   "cell_type": "code",
   "execution_count": 9,
   "id": "c428da66-4021-4f7d-9e42-efd8ba70491b",
   "metadata": {
    "tags": []
   },
   "outputs": [
    {
     "data": {
      "text/plain": [
       "197"
      ]
     },
     "execution_count": 9,
     "metadata": {},
     "output_type": "execute_result"
    }
   ],
   "source": [
    "hpi_po_monthly_hist.to_sql(\n",
    "name='hpi_po_monthly_hist', \n",
    "con = conn,\n",
    "if_exists='replace', \n",
    "index=False,\n",
    ")"
   ]
  },
  {
   "cell_type": "code",
   "execution_count": 10,
   "id": "c7b232d9-50a5-4210-83ae-1f8d43a4d9d5",
   "metadata": {
    "tags": []
   },
   "outputs": [
    {
     "data": {
      "text/plain": [
       "Index(['observation_date', 'CASTHPI'], dtype='object')"
      ]
     },
     "execution_count": 10,
     "metadata": {},
     "output_type": "execute_result"
    }
   ],
   "source": [
    "hpi_po_monthly_hist.columns"
   ]
  },
  {
   "cell_type": "markdown",
   "id": "720bde20-237a-4e28-bb05-c023f6862619",
   "metadata": {},
   "source": [
    "# compare to 30 years ago"
   ]
  },
  {
   "cell_type": "code",
   "execution_count": 11,
   "id": "170a5f90-93e2-4c57-816a-16762388ebe5",
   "metadata": {
    "tags": []
   },
   "outputs": [],
   "source": [
    "leverage_rate = 5\n",
    "holding_year = 30\n",
    "price_column = 'CASTHPI'\n",
    "date_column = 'observation_date'\n",
    "\n",
    "result = sql(f\"\"\"\n",
    "select \n",
    "a.{date_column} as current_month,\n",
    "b.{date_column} as month_{holding_year}_years_ago,\n",
    "cast(a.{price_column} as real) as current_property_price,\n",
    "cast(b.{price_column} as real) as property_price_{holding_year}_years_ago\n",
    "--\n",
    "from hpi_po_monthly_hist as a \n",
    "left join hpi_po_monthly_hist as b\n",
    "on DATE(a.{date_column}, '-{holding_year} years') = DATE(b.{date_column})\n",
    "where DATE(b.{date_column}) is not null\n",
    "and DATE(a.{date_column}) is not null\n",
    "\"\"\")"
   ]
  },
  {
   "cell_type": "code",
   "execution_count": 12,
   "id": "6b207a51-b9d0-47c6-838e-00fc2f3e12d7",
   "metadata": {
    "tags": []
   },
   "outputs": [
    {
     "data": {
      "text/html": [
       "<div>\n",
       "<style scoped>\n",
       "    .dataframe tbody tr th:only-of-type {\n",
       "        vertical-align: middle;\n",
       "    }\n",
       "\n",
       "    .dataframe tbody tr th {\n",
       "        vertical-align: top;\n",
       "    }\n",
       "\n",
       "    .dataframe thead th {\n",
       "        text-align: right;\n",
       "    }\n",
       "</style>\n",
       "<table border=\"1\" class=\"dataframe\">\n",
       "  <thead>\n",
       "    <tr style=\"text-align: right;\">\n",
       "      <th></th>\n",
       "      <th>current_month</th>\n",
       "      <th>month_30_years_ago</th>\n",
       "      <th>current_property_price</th>\n",
       "      <th>property_price_30_years_ago</th>\n",
       "    </tr>\n",
       "  </thead>\n",
       "  <tbody>\n",
       "    <tr>\n",
       "      <th>0</th>\n",
       "      <td>2005-01-01 00:00:00</td>\n",
       "      <td>1975-01-01 00:00:00</td>\n",
       "      <td>538.76</td>\n",
       "      <td>41.69</td>\n",
       "    </tr>\n",
       "    <tr>\n",
       "      <th>1</th>\n",
       "      <td>2005-04-01 00:00:00</td>\n",
       "      <td>1975-04-01 00:00:00</td>\n",
       "      <td>570.36</td>\n",
       "      <td>42.77</td>\n",
       "    </tr>\n",
       "    <tr>\n",
       "      <th>2</th>\n",
       "      <td>2005-07-01 00:00:00</td>\n",
       "      <td>1975-07-01 00:00:00</td>\n",
       "      <td>598.83</td>\n",
       "      <td>44.36</td>\n",
       "    </tr>\n",
       "  </tbody>\n",
       "</table>\n",
       "</div>"
      ],
      "text/plain": [
       "         current_month   month_30_years_ago  current_property_price  \\\n",
       "0  2005-01-01 00:00:00  1975-01-01 00:00:00                  538.76   \n",
       "1  2005-04-01 00:00:00  1975-04-01 00:00:00                  570.36   \n",
       "2  2005-07-01 00:00:00  1975-07-01 00:00:00                  598.83   \n",
       "\n",
       "   property_price_30_years_ago  \n",
       "0                        41.69  \n",
       "1                        42.77  \n",
       "2                        44.36  "
      ]
     },
     "execution_count": 12,
     "metadata": {},
     "output_type": "execute_result"
    }
   ],
   "source": [
    "result.head(3)"
   ]
  },
  {
   "cell_type": "markdown",
   "id": "4527a53d-82f2-419a-9d97-747048049f8f",
   "metadata": {},
   "source": [
    "# attached the nasdaq 100 price"
   ]
  },
  {
   "cell_type": "code",
   "execution_count": 16,
   "id": "9f40ff3c-5e10-4689-879d-30c02d43dcd6",
   "metadata": {
    "tags": []
   },
   "outputs": [],
   "source": [
    "import yfinance as yf\n",
    "import pandas as pd\n",
    "\n",
    "# Load QQQ ETF data\n",
    "qqq = yf.Ticker(\"^NDX\")\n",
    "\n",
    "# Get historical data\n",
    "data = qqq.history(period=\"max\")\n",
    "\n",
    "def get_median_close_price(date_str):\n",
    "    \n",
    "    try:\n",
    "        # Parse the input date to extract the year and month\n",
    "        date = pd.to_datetime(date_str)\n",
    "        year_month = date.strftime('%Y-%m')  # Format 'YYYY-MM'\n",
    "\n",
    "        # Filter the data for the specific month\n",
    "        monthly_data = data.loc[year_month]\n",
    "\n",
    "        # Calculate the median of the 'Close' prices\n",
    "        median_close_price = monthly_data['Close'].median()\n",
    "\n",
    "        return median_close_price\n",
    "    except:\n",
    "        return None"
   ]
  },
  {
   "cell_type": "code",
   "execution_count": 17,
   "id": "441fd2b3-6409-4055-936c-3dbf5b379d64",
   "metadata": {
    "tags": []
   },
   "outputs": [],
   "source": [
    "result['current_nq100_price'] = result['current_month'].apply(get_median_close_price)\n",
    "result[f'nq100_price_{holding_year}_years_ago'] = result[f'month_{holding_year}_years_ago'].apply(get_median_close_price)"
   ]
  },
  {
   "cell_type": "code",
   "execution_count": 18,
   "id": "62d3d448-0430-4d9b-a036-f08bf29ab2ad",
   "metadata": {
    "tags": []
   },
   "outputs": [
    {
     "data": {
      "text/plain": [
       "77"
      ]
     },
     "execution_count": 18,
     "metadata": {},
     "output_type": "execute_result"
    }
   ],
   "source": [
    "result.to_sql(\n",
    "name='monthly_price', \n",
    "con = conn,\n",
    "if_exists='replace', \n",
    "index=False,\n",
    ")"
   ]
  },
  {
   "cell_type": "code",
   "execution_count": 20,
   "id": "a0cf2b46-6333-4508-bee8-9d915a2d9737",
   "metadata": {
    "tags": []
   },
   "outputs": [
    {
     "data": {
      "text/html": [
       "<div>\n",
       "<style scoped>\n",
       "    .dataframe tbody tr th:only-of-type {\n",
       "        vertical-align: middle;\n",
       "    }\n",
       "\n",
       "    .dataframe tbody tr th {\n",
       "        vertical-align: top;\n",
       "    }\n",
       "\n",
       "    .dataframe thead th {\n",
       "        text-align: right;\n",
       "    }\n",
       "</style>\n",
       "<table border=\"1\" class=\"dataframe\">\n",
       "  <thead>\n",
       "    <tr style=\"text-align: right;\">\n",
       "      <th></th>\n",
       "      <th>current_month</th>\n",
       "      <th>month_30_years_ago</th>\n",
       "      <th>current_property_price</th>\n",
       "      <th>property_price_30_years_ago</th>\n",
       "      <th>current_nq100_price</th>\n",
       "      <th>nq100_price_30_years_ago</th>\n",
       "    </tr>\n",
       "  </thead>\n",
       "  <tbody>\n",
       "    <tr>\n",
       "      <th>0</th>\n",
       "      <td>2005-01-01 00:00:00</td>\n",
       "      <td>1975-01-01 00:00:00</td>\n",
       "      <td>538.76</td>\n",
       "      <td>41.69</td>\n",
       "      <td>1549.525024</td>\n",
       "      <td>NaN</td>\n",
       "    </tr>\n",
       "    <tr>\n",
       "      <th>1</th>\n",
       "      <td>2005-04-01 00:00:00</td>\n",
       "      <td>1975-04-01 00:00:00</td>\n",
       "      <td>570.36</td>\n",
       "      <td>42.77</td>\n",
       "      <td>1441.130005</td>\n",
       "      <td>NaN</td>\n",
       "    </tr>\n",
       "    <tr>\n",
       "      <th>2</th>\n",
       "      <td>2005-07-01 00:00:00</td>\n",
       "      <td>1975-07-01 00:00:00</td>\n",
       "      <td>598.83</td>\n",
       "      <td>44.36</td>\n",
       "      <td>1575.629944</td>\n",
       "      <td>NaN</td>\n",
       "    </tr>\n",
       "  </tbody>\n",
       "</table>\n",
       "</div>"
      ],
      "text/plain": [
       "         current_month   month_30_years_ago  current_property_price  \\\n",
       "0  2005-01-01 00:00:00  1975-01-01 00:00:00                  538.76   \n",
       "1  2005-04-01 00:00:00  1975-04-01 00:00:00                  570.36   \n",
       "2  2005-07-01 00:00:00  1975-07-01 00:00:00                  598.83   \n",
       "\n",
       "   property_price_30_years_ago  current_nq100_price  nq100_price_30_years_ago  \n",
       "0                        41.69          1549.525024                       NaN  \n",
       "1                        42.77          1441.130005                       NaN  \n",
       "2                        44.36          1575.629944                       NaN  "
      ]
     },
     "execution_count": 20,
     "metadata": {},
     "output_type": "execute_result"
    }
   ],
   "source": [
    "result.head(3)"
   ]
  },
  {
   "cell_type": "markdown",
   "id": "e479736b-546e-4709-9d37-369341a81157",
   "metadata": {
    "tags": []
   },
   "source": [
    "# calculate the return"
   ]
  },
  {
   "cell_type": "code",
   "execution_count": 24,
   "id": "4b98b692-a006-4781-9d28-a753eba7de6d",
   "metadata": {
    "tags": []
   },
   "outputs": [],
   "source": [
    "return_date = sql(f\"\"\"\n",
    "select *,\n",
    "current_nq100_price/nq100_price_{holding_year}_years_ago -1 as nq100_return,\n",
    "current_property_price/property_price_{holding_year}_years_ago - 1 as property_return,\n",
    "current_property_price/property_price_{holding_year}_years_ago*{leverage_rate} - 1 as property_x_{leverage_rate}_leverage_return\n",
    "from monthly_price\n",
    "where nq100_return is not null\n",
    "\"\"\")"
   ]
  },
  {
   "cell_type": "code",
   "execution_count": 25,
   "id": "02792393-5025-4807-bc90-5211537de991",
   "metadata": {
    "tags": []
   },
   "outputs": [
    {
     "data": {
      "text/html": [
       "<div>\n",
       "<style scoped>\n",
       "    .dataframe tbody tr th:only-of-type {\n",
       "        vertical-align: middle;\n",
       "    }\n",
       "\n",
       "    .dataframe tbody tr th {\n",
       "        vertical-align: top;\n",
       "    }\n",
       "\n",
       "    .dataframe thead th {\n",
       "        text-align: right;\n",
       "    }\n",
       "</style>\n",
       "<table border=\"1\" class=\"dataframe\">\n",
       "  <thead>\n",
       "    <tr style=\"text-align: right;\">\n",
       "      <th></th>\n",
       "      <th>current_month</th>\n",
       "      <th>month_30_years_ago</th>\n",
       "      <th>current_property_price</th>\n",
       "      <th>property_price_30_years_ago</th>\n",
       "      <th>current_nq100_price</th>\n",
       "      <th>nq100_price_30_years_ago</th>\n",
       "      <th>nq100_return</th>\n",
       "      <th>property_return</th>\n",
       "      <th>property_x_5_leverage_return</th>\n",
       "    </tr>\n",
       "  </thead>\n",
       "  <tbody>\n",
       "    <tr>\n",
       "      <th>0</th>\n",
       "      <td>2015-10-01 00:00:00</td>\n",
       "      <td>1985-10-01 00:00:00</td>\n",
       "      <td>537.40</td>\n",
       "      <td>130.55</td>\n",
       "      <td>4415.870117</td>\n",
       "      <td>113.680000</td>\n",
       "      <td>37.844741</td>\n",
       "      <td>3.11643</td>\n",
       "      <td>19.582152</td>\n",
       "    </tr>\n",
       "    <tr>\n",
       "      <th>1</th>\n",
       "      <td>2016-01-01 00:00:00</td>\n",
       "      <td>1986-01-01 00:00:00</td>\n",
       "      <td>544.44</td>\n",
       "      <td>132.24</td>\n",
       "      <td>4259.770020</td>\n",
       "      <td>131.125000</td>\n",
       "      <td>31.486330</td>\n",
       "      <td>3.11706</td>\n",
       "      <td>19.585299</td>\n",
       "    </tr>\n",
       "    <tr>\n",
       "      <th>2</th>\n",
       "      <td>2016-04-01 00:00:00</td>\n",
       "      <td>1986-04-01 00:00:00</td>\n",
       "      <td>554.09</td>\n",
       "      <td>134.78</td>\n",
       "      <td>4496.040039</td>\n",
       "      <td>154.915001</td>\n",
       "      <td>28.022625</td>\n",
       "      <td>3.11107</td>\n",
       "      <td>19.555349</td>\n",
       "    </tr>\n",
       "  </tbody>\n",
       "</table>\n",
       "</div>"
      ],
      "text/plain": [
       "         current_month   month_30_years_ago  current_property_price  \\\n",
       "0  2015-10-01 00:00:00  1985-10-01 00:00:00                  537.40   \n",
       "1  2016-01-01 00:00:00  1986-01-01 00:00:00                  544.44   \n",
       "2  2016-04-01 00:00:00  1986-04-01 00:00:00                  554.09   \n",
       "\n",
       "   property_price_30_years_ago  current_nq100_price  nq100_price_30_years_ago  \\\n",
       "0                       130.55          4415.870117                113.680000   \n",
       "1                       132.24          4259.770020                131.125000   \n",
       "2                       134.78          4496.040039                154.915001   \n",
       "\n",
       "   nq100_return  property_return  property_x_5_leverage_return  \n",
       "0     37.844741          3.11643                     19.582152  \n",
       "1     31.486330          3.11706                     19.585299  \n",
       "2     28.022625          3.11107                     19.555349  "
      ]
     },
     "execution_count": 25,
     "metadata": {},
     "output_type": "execute_result"
    }
   ],
   "source": [
    "return_date.head(3)"
   ]
  },
  {
   "cell_type": "markdown",
   "id": "bb08014b-a16b-45fb-add0-49b8d2838d1f",
   "metadata": {},
   "source": [
    "# plot the return "
   ]
  },
  {
   "cell_type": "code",
   "execution_count": 26,
   "id": "07240352-56f4-4d7e-b1a1-3dc11f5ce14d",
   "metadata": {
    "tags": []
   },
   "outputs": [
    {
     "data": {
      "application/vnd.plotly.v1+json": {
       "config": {
        "plotlyServerURL": "https://plot.ly"
       },
       "data": [
        {
         "mode": "lines",
         "name": "NQ100 Return",
         "type": "scatter",
         "visible": true,
         "x": [
          "2015-10-01 00:00:00",
          "2016-01-01 00:00:00",
          "2016-04-01 00:00:00",
          "2016-07-01 00:00:00",
          "2016-10-01 00:00:00",
          "2017-01-01 00:00:00",
          "2017-04-01 00:00:00",
          "2017-07-01 00:00:00",
          "2017-10-01 00:00:00",
          "2018-01-01 00:00:00",
          "2018-04-01 00:00:00",
          "2018-07-01 00:00:00",
          "2018-10-01 00:00:00",
          "2019-01-01 00:00:00",
          "2019-04-01 00:00:00",
          "2019-07-01 00:00:00",
          "2019-10-01 00:00:00",
          "2020-01-01 00:00:00",
          "2020-04-01 00:00:00",
          "2020-07-01 00:00:00",
          "2020-10-01 00:00:00",
          "2021-01-01 00:00:00",
          "2021-04-01 00:00:00",
          "2021-07-01 00:00:00",
          "2021-10-01 00:00:00",
          "2022-01-01 00:00:00",
          "2022-04-01 00:00:00",
          "2022-07-01 00:00:00",
          "2022-10-01 00:00:00",
          "2023-01-01 00:00:00",
          "2023-04-01 00:00:00",
          "2023-07-01 00:00:00",
          "2023-10-01 00:00:00",
          "2024-01-01 00:00:00"
         ],
         "y": [
          37.84474054656075,
          31.48632998689228,
          28.022625391288724,
          30.07820539479296,
          33.40355507270255,
          29.787803268898553,
          28.472860872576607,
          29.33163355086884,
          31.284337059042898,
          42.14878070108401,
          36.770439980781035,
          38.20959146679933,
          39.44698819247159,
          36.133017087115924,
          38.20209697991079,
          36.482138694390954,
          33.4739248372918,
          41.90696198209377,
          39.652012434148034,
          43.77544950918955,
          65.68187506257102,
          61.945938396564685,
          49.53691453570572,
          55.305260985723216,
          51.74639831163668,
          43.75496226446566,
          43.62375004985417,
          38.7694796128553,
          34.61264410053068,
          29.736150590469098,
          37.35679960743079,
          42.28074985807912,
          37.42873038704081,
          40.20968460736458
         ]
        },
        {
         "mode": "lines",
         "name": "Property Return",
         "type": "scatter",
         "x": [
          "2015-10-01 00:00:00",
          "2016-01-01 00:00:00",
          "2016-04-01 00:00:00",
          "2016-07-01 00:00:00",
          "2016-10-01 00:00:00",
          "2017-01-01 00:00:00",
          "2017-04-01 00:00:00",
          "2017-07-01 00:00:00",
          "2017-10-01 00:00:00",
          "2018-01-01 00:00:00",
          "2018-04-01 00:00:00",
          "2018-07-01 00:00:00",
          "2018-10-01 00:00:00",
          "2019-01-01 00:00:00",
          "2019-04-01 00:00:00",
          "2019-07-01 00:00:00",
          "2019-10-01 00:00:00",
          "2020-01-01 00:00:00",
          "2020-04-01 00:00:00",
          "2020-07-01 00:00:00",
          "2020-10-01 00:00:00",
          "2021-01-01 00:00:00",
          "2021-04-01 00:00:00",
          "2021-07-01 00:00:00",
          "2021-10-01 00:00:00",
          "2022-01-01 00:00:00",
          "2022-04-01 00:00:00",
          "2022-07-01 00:00:00",
          "2022-10-01 00:00:00",
          "2023-01-01 00:00:00",
          "2023-04-01 00:00:00",
          "2023-07-01 00:00:00",
          "2023-10-01 00:00:00",
          "2024-01-01 00:00:00"
         ],
         "y": [
          3.116430486403676,
          3.117059891107078,
          3.1110698916753226,
          3.1107884419921588,
          3.0614501382096533,
          3.0009674521456704,
          2.9862403885066775,
          2.941734240125556,
          2.8886344845131338,
          2.815153374233129,
          2.734193624418125,
          2.6102953586497892,
          2.4226809622872993,
          2.2907515923566875,
          2.16837453256277,
          2.026904182544419,
          1.953576356433881,
          1.9452139119729148,
          1.9693211202173817,
          1.978878748370274,
          2.0606816292601833,
          2.1474900433279354,
          2.3550290646468204,
          2.52963713228818,
          2.64607650273224,
          2.8148978246539222,
          3.0934766197433277,
          3.0768854282536147,
          3.0145070738827755,
          3.0652342502623053,
          3.204573689780518,
          3.306571375533692,
          3.3433239962651733,
          3.444103918147956
         ]
        },
        {
         "mode": "lines",
         "name": "Property x5 Leverage Return",
         "type": "scatter",
         "visible": true,
         "x": [
          "2015-10-01 00:00:00",
          "2016-01-01 00:00:00",
          "2016-04-01 00:00:00",
          "2016-07-01 00:00:00",
          "2016-10-01 00:00:00",
          "2017-01-01 00:00:00",
          "2017-04-01 00:00:00",
          "2017-07-01 00:00:00",
          "2017-10-01 00:00:00",
          "2018-01-01 00:00:00",
          "2018-04-01 00:00:00",
          "2018-07-01 00:00:00",
          "2018-10-01 00:00:00",
          "2019-01-01 00:00:00",
          "2019-04-01 00:00:00",
          "2019-07-01 00:00:00",
          "2019-10-01 00:00:00",
          "2020-01-01 00:00:00",
          "2020-04-01 00:00:00",
          "2020-07-01 00:00:00",
          "2020-10-01 00:00:00",
          "2021-01-01 00:00:00",
          "2021-04-01 00:00:00",
          "2021-07-01 00:00:00",
          "2021-10-01 00:00:00",
          "2022-01-01 00:00:00",
          "2022-04-01 00:00:00",
          "2022-07-01 00:00:00",
          "2022-10-01 00:00:00",
          "2023-01-01 00:00:00",
          "2023-04-01 00:00:00",
          "2023-07-01 00:00:00",
          "2023-10-01 00:00:00",
          "2024-01-01 00:00:00"
         ],
         "y": [
          19.58215243201838,
          19.58529945553539,
          19.55534945837661,
          19.553942209960795,
          19.307250691048267,
          19.00483726072835,
          18.931201942533388,
          18.70867120062778,
          18.44317242256567,
          18.075766871165644,
          17.670968122090624,
          17.051476793248945,
          16.113404811436496,
          15.453757961783438,
          14.841872662813849,
          14.134520912722095,
          13.767881782169406,
          13.726069559864573,
          13.846605601086909,
          13.89439374185137,
          14.303408146300917,
          14.737450216639676,
          15.775145323234103,
          16.648185661440902,
          17.2303825136612,
          18.07448912326961,
          19.46738309871664,
          19.384427141268073,
          19.072535369413878,
          19.32617125131153,
          20.02286844890259,
          20.53285687766846,
          20.716619981325866,
          21.22051959073978
         ]
        }
       ],
       "layout": {
        "autosize": true,
        "template": {
         "data": {
          "bar": [
           {
            "error_x": {
             "color": "#2a3f5f"
            },
            "error_y": {
             "color": "#2a3f5f"
            },
            "marker": {
             "line": {
              "color": "white",
              "width": 0.5
             },
             "pattern": {
              "fillmode": "overlay",
              "size": 10,
              "solidity": 0.2
             }
            },
            "type": "bar"
           }
          ],
          "barpolar": [
           {
            "marker": {
             "line": {
              "color": "white",
              "width": 0.5
             },
             "pattern": {
              "fillmode": "overlay",
              "size": 10,
              "solidity": 0.2
             }
            },
            "type": "barpolar"
           }
          ],
          "carpet": [
           {
            "aaxis": {
             "endlinecolor": "#2a3f5f",
             "gridcolor": "#C8D4E3",
             "linecolor": "#C8D4E3",
             "minorgridcolor": "#C8D4E3",
             "startlinecolor": "#2a3f5f"
            },
            "baxis": {
             "endlinecolor": "#2a3f5f",
             "gridcolor": "#C8D4E3",
             "linecolor": "#C8D4E3",
             "minorgridcolor": "#C8D4E3",
             "startlinecolor": "#2a3f5f"
            },
            "type": "carpet"
           }
          ],
          "choropleth": [
           {
            "colorbar": {
             "outlinewidth": 0,
             "ticks": ""
            },
            "type": "choropleth"
           }
          ],
          "contour": [
           {
            "colorbar": {
             "outlinewidth": 0,
             "ticks": ""
            },
            "colorscale": [
             [
              0,
              "#0d0887"
             ],
             [
              0.1111111111111111,
              "#46039f"
             ],
             [
              0.2222222222222222,
              "#7201a8"
             ],
             [
              0.3333333333333333,
              "#9c179e"
             ],
             [
              0.4444444444444444,
              "#bd3786"
             ],
             [
              0.5555555555555556,
              "#d8576b"
             ],
             [
              0.6666666666666666,
              "#ed7953"
             ],
             [
              0.7777777777777778,
              "#fb9f3a"
             ],
             [
              0.8888888888888888,
              "#fdca26"
             ],
             [
              1,
              "#f0f921"
             ]
            ],
            "type": "contour"
           }
          ],
          "contourcarpet": [
           {
            "colorbar": {
             "outlinewidth": 0,
             "ticks": ""
            },
            "type": "contourcarpet"
           }
          ],
          "heatmap": [
           {
            "colorbar": {
             "outlinewidth": 0,
             "ticks": ""
            },
            "colorscale": [
             [
              0,
              "#0d0887"
             ],
             [
              0.1111111111111111,
              "#46039f"
             ],
             [
              0.2222222222222222,
              "#7201a8"
             ],
             [
              0.3333333333333333,
              "#9c179e"
             ],
             [
              0.4444444444444444,
              "#bd3786"
             ],
             [
              0.5555555555555556,
              "#d8576b"
             ],
             [
              0.6666666666666666,
              "#ed7953"
             ],
             [
              0.7777777777777778,
              "#fb9f3a"
             ],
             [
              0.8888888888888888,
              "#fdca26"
             ],
             [
              1,
              "#f0f921"
             ]
            ],
            "type": "heatmap"
           }
          ],
          "heatmapgl": [
           {
            "colorbar": {
             "outlinewidth": 0,
             "ticks": ""
            },
            "colorscale": [
             [
              0,
              "#0d0887"
             ],
             [
              0.1111111111111111,
              "#46039f"
             ],
             [
              0.2222222222222222,
              "#7201a8"
             ],
             [
              0.3333333333333333,
              "#9c179e"
             ],
             [
              0.4444444444444444,
              "#bd3786"
             ],
             [
              0.5555555555555556,
              "#d8576b"
             ],
             [
              0.6666666666666666,
              "#ed7953"
             ],
             [
              0.7777777777777778,
              "#fb9f3a"
             ],
             [
              0.8888888888888888,
              "#fdca26"
             ],
             [
              1,
              "#f0f921"
             ]
            ],
            "type": "heatmapgl"
           }
          ],
          "histogram": [
           {
            "marker": {
             "pattern": {
              "fillmode": "overlay",
              "size": 10,
              "solidity": 0.2
             }
            },
            "type": "histogram"
           }
          ],
          "histogram2d": [
           {
            "colorbar": {
             "outlinewidth": 0,
             "ticks": ""
            },
            "colorscale": [
             [
              0,
              "#0d0887"
             ],
             [
              0.1111111111111111,
              "#46039f"
             ],
             [
              0.2222222222222222,
              "#7201a8"
             ],
             [
              0.3333333333333333,
              "#9c179e"
             ],
             [
              0.4444444444444444,
              "#bd3786"
             ],
             [
              0.5555555555555556,
              "#d8576b"
             ],
             [
              0.6666666666666666,
              "#ed7953"
             ],
             [
              0.7777777777777778,
              "#fb9f3a"
             ],
             [
              0.8888888888888888,
              "#fdca26"
             ],
             [
              1,
              "#f0f921"
             ]
            ],
            "type": "histogram2d"
           }
          ],
          "histogram2dcontour": [
           {
            "colorbar": {
             "outlinewidth": 0,
             "ticks": ""
            },
            "colorscale": [
             [
              0,
              "#0d0887"
             ],
             [
              0.1111111111111111,
              "#46039f"
             ],
             [
              0.2222222222222222,
              "#7201a8"
             ],
             [
              0.3333333333333333,
              "#9c179e"
             ],
             [
              0.4444444444444444,
              "#bd3786"
             ],
             [
              0.5555555555555556,
              "#d8576b"
             ],
             [
              0.6666666666666666,
              "#ed7953"
             ],
             [
              0.7777777777777778,
              "#fb9f3a"
             ],
             [
              0.8888888888888888,
              "#fdca26"
             ],
             [
              1,
              "#f0f921"
             ]
            ],
            "type": "histogram2dcontour"
           }
          ],
          "mesh3d": [
           {
            "colorbar": {
             "outlinewidth": 0,
             "ticks": ""
            },
            "type": "mesh3d"
           }
          ],
          "parcoords": [
           {
            "line": {
             "colorbar": {
              "outlinewidth": 0,
              "ticks": ""
             }
            },
            "type": "parcoords"
           }
          ],
          "pie": [
           {
            "automargin": true,
            "type": "pie"
           }
          ],
          "scatter": [
           {
            "fillpattern": {
             "fillmode": "overlay",
             "size": 10,
             "solidity": 0.2
            },
            "type": "scatter"
           }
          ],
          "scatter3d": [
           {
            "line": {
             "colorbar": {
              "outlinewidth": 0,
              "ticks": ""
             }
            },
            "marker": {
             "colorbar": {
              "outlinewidth": 0,
              "ticks": ""
             }
            },
            "type": "scatter3d"
           }
          ],
          "scattercarpet": [
           {
            "marker": {
             "colorbar": {
              "outlinewidth": 0,
              "ticks": ""
             }
            },
            "type": "scattercarpet"
           }
          ],
          "scattergeo": [
           {
            "marker": {
             "colorbar": {
              "outlinewidth": 0,
              "ticks": ""
             }
            },
            "type": "scattergeo"
           }
          ],
          "scattergl": [
           {
            "marker": {
             "colorbar": {
              "outlinewidth": 0,
              "ticks": ""
             }
            },
            "type": "scattergl"
           }
          ],
          "scattermapbox": [
           {
            "marker": {
             "colorbar": {
              "outlinewidth": 0,
              "ticks": ""
             }
            },
            "type": "scattermapbox"
           }
          ],
          "scatterpolar": [
           {
            "marker": {
             "colorbar": {
              "outlinewidth": 0,
              "ticks": ""
             }
            },
            "type": "scatterpolar"
           }
          ],
          "scatterpolargl": [
           {
            "marker": {
             "colorbar": {
              "outlinewidth": 0,
              "ticks": ""
             }
            },
            "type": "scatterpolargl"
           }
          ],
          "scatterternary": [
           {
            "marker": {
             "colorbar": {
              "outlinewidth": 0,
              "ticks": ""
             }
            },
            "type": "scatterternary"
           }
          ],
          "surface": [
           {
            "colorbar": {
             "outlinewidth": 0,
             "ticks": ""
            },
            "colorscale": [
             [
              0,
              "#0d0887"
             ],
             [
              0.1111111111111111,
              "#46039f"
             ],
             [
              0.2222222222222222,
              "#7201a8"
             ],
             [
              0.3333333333333333,
              "#9c179e"
             ],
             [
              0.4444444444444444,
              "#bd3786"
             ],
             [
              0.5555555555555556,
              "#d8576b"
             ],
             [
              0.6666666666666666,
              "#ed7953"
             ],
             [
              0.7777777777777778,
              "#fb9f3a"
             ],
             [
              0.8888888888888888,
              "#fdca26"
             ],
             [
              1,
              "#f0f921"
             ]
            ],
            "type": "surface"
           }
          ],
          "table": [
           {
            "cells": {
             "fill": {
              "color": "#EBF0F8"
             },
             "line": {
              "color": "white"
             }
            },
            "header": {
             "fill": {
              "color": "#C8D4E3"
             },
             "line": {
              "color": "white"
             }
            },
            "type": "table"
           }
          ]
         },
         "layout": {
          "annotationdefaults": {
           "arrowcolor": "#2a3f5f",
           "arrowhead": 0,
           "arrowwidth": 1
          },
          "autotypenumbers": "strict",
          "coloraxis": {
           "colorbar": {
            "outlinewidth": 0,
            "ticks": ""
           }
          },
          "colorscale": {
           "diverging": [
            [
             0,
             "#8e0152"
            ],
            [
             0.1,
             "#c51b7d"
            ],
            [
             0.2,
             "#de77ae"
            ],
            [
             0.3,
             "#f1b6da"
            ],
            [
             0.4,
             "#fde0ef"
            ],
            [
             0.5,
             "#f7f7f7"
            ],
            [
             0.6,
             "#e6f5d0"
            ],
            [
             0.7,
             "#b8e186"
            ],
            [
             0.8,
             "#7fbc41"
            ],
            [
             0.9,
             "#4d9221"
            ],
            [
             1,
             "#276419"
            ]
           ],
           "sequential": [
            [
             0,
             "#0d0887"
            ],
            [
             0.1111111111111111,
             "#46039f"
            ],
            [
             0.2222222222222222,
             "#7201a8"
            ],
            [
             0.3333333333333333,
             "#9c179e"
            ],
            [
             0.4444444444444444,
             "#bd3786"
            ],
            [
             0.5555555555555556,
             "#d8576b"
            ],
            [
             0.6666666666666666,
             "#ed7953"
            ],
            [
             0.7777777777777778,
             "#fb9f3a"
            ],
            [
             0.8888888888888888,
             "#fdca26"
            ],
            [
             1,
             "#f0f921"
            ]
           ],
           "sequentialminus": [
            [
             0,
             "#0d0887"
            ],
            [
             0.1111111111111111,
             "#46039f"
            ],
            [
             0.2222222222222222,
             "#7201a8"
            ],
            [
             0.3333333333333333,
             "#9c179e"
            ],
            [
             0.4444444444444444,
             "#bd3786"
            ],
            [
             0.5555555555555556,
             "#d8576b"
            ],
            [
             0.6666666666666666,
             "#ed7953"
            ],
            [
             0.7777777777777778,
             "#fb9f3a"
            ],
            [
             0.8888888888888888,
             "#fdca26"
            ],
            [
             1,
             "#f0f921"
            ]
           ]
          },
          "colorway": [
           "#636efa",
           "#EF553B",
           "#00cc96",
           "#ab63fa",
           "#FFA15A",
           "#19d3f3",
           "#FF6692",
           "#B6E880",
           "#FF97FF",
           "#FECB52"
          ],
          "font": {
           "color": "#2a3f5f"
          },
          "geo": {
           "bgcolor": "white",
           "lakecolor": "white",
           "landcolor": "white",
           "showlakes": true,
           "showland": true,
           "subunitcolor": "#C8D4E3"
          },
          "hoverlabel": {
           "align": "left"
          },
          "hovermode": "closest",
          "mapbox": {
           "style": "light"
          },
          "paper_bgcolor": "white",
          "plot_bgcolor": "white",
          "polar": {
           "angularaxis": {
            "gridcolor": "#EBF0F8",
            "linecolor": "#EBF0F8",
            "ticks": ""
           },
           "bgcolor": "white",
           "radialaxis": {
            "gridcolor": "#EBF0F8",
            "linecolor": "#EBF0F8",
            "ticks": ""
           }
          },
          "scene": {
           "xaxis": {
            "backgroundcolor": "white",
            "gridcolor": "#DFE8F3",
            "gridwidth": 2,
            "linecolor": "#EBF0F8",
            "showbackground": true,
            "ticks": "",
            "zerolinecolor": "#EBF0F8"
           },
           "yaxis": {
            "backgroundcolor": "white",
            "gridcolor": "#DFE8F3",
            "gridwidth": 2,
            "linecolor": "#EBF0F8",
            "showbackground": true,
            "ticks": "",
            "zerolinecolor": "#EBF0F8"
           },
           "zaxis": {
            "backgroundcolor": "white",
            "gridcolor": "#DFE8F3",
            "gridwidth": 2,
            "linecolor": "#EBF0F8",
            "showbackground": true,
            "ticks": "",
            "zerolinecolor": "#EBF0F8"
           }
          },
          "shapedefaults": {
           "line": {
            "color": "#2a3f5f"
           }
          },
          "ternary": {
           "aaxis": {
            "gridcolor": "#DFE8F3",
            "linecolor": "#A2B1C6",
            "ticks": ""
           },
           "baxis": {
            "gridcolor": "#DFE8F3",
            "linecolor": "#A2B1C6",
            "ticks": ""
           },
           "bgcolor": "white",
           "caxis": {
            "gridcolor": "#DFE8F3",
            "linecolor": "#A2B1C6",
            "ticks": ""
           }
          },
          "title": {
           "x": 0.05
          },
          "xaxis": {
           "automargin": true,
           "gridcolor": "#EBF0F8",
           "linecolor": "#EBF0F8",
           "ticks": "",
           "title": {
            "standoff": 15
           },
           "zerolinecolor": "#EBF0F8",
           "zerolinewidth": 2
          },
          "yaxis": {
           "automargin": true,
           "gridcolor": "#EBF0F8",
           "linecolor": "#EBF0F8",
           "ticks": "",
           "title": {
            "standoff": 15
           },
           "zerolinecolor": "#EBF0F8",
           "zerolinewidth": 2
          }
         }
        },
        "title": {
         "text": "NQ100 and Property Returns Over 30 Years"
        },
        "xaxis": {
         "autorange": true,
         "range": [
          "2015-10-01",
          "2024-01-01"
         ],
         "title": {
          "text": "Current Month"
         },
         "type": "date"
        },
        "yaxis": {
         "autorange": true,
         "range": [
          -1.5957117075047575,
          69.2228006820487
         ],
         "title": {
          "text": "Values"
         },
         "type": "linear"
        }
       }
      },
      "image/png": "[encoded data removed]",
      "text/html": [
       "<div>                            <div id=\"b301e451-7ffe-46e7-b81f-bfe78bad1d94\" class=\"plotly-graph-div\" style=\"height:525px; width:100%;\"></div>            <script type=\"text/javascript\">                require([\"plotly\"], function(Plotly) {                    window.PLOTLYENV=window.PLOTLYENV || {};                                    if (document.getElementById(\"b301e451-7ffe-46e7-b81f-bfe78bad1d94\")) {                    Plotly.newPlot(                        \"b301e451-7ffe-46e7-b81f-bfe78bad1d94\",                        [{\"mode\":\"lines\",\"name\":\"NQ100 Return\",\"x\":[\"2015-10-01 00:00:00\",\"2016-01-01 00:00:00\",\"2016-04-01 00:00:00\",\"2016-07-01 00:00:00\",\"2016-10-01 00:00:00\",\"2017-01-01 00:00:00\",\"2017-04-01 00:00:00\",\"2017-07-01 00:00:00\",\"2017-10-01 00:00:00\",\"2018-01-01 00:00:00\",\"2018-04-01 00:00:00\",\"2018-07-01 00:00:00\",\"2018-10-01 00:00:00\",\"2019-01-01 00:00:00\",\"2019-04-01 00:00:00\",\"2019-07-01 00:00:00\",\"2019-10-01 00:00:00\",\"2020-01-01 00:00:00\",\"2020-04-01 00:00:00\",\"2020-07-01 00:00:00\",\"2020-10-01 00:00:00\",\"2021-01-01 00:00:00\",\"2021-04-01 00:00:00\",\"2021-07-01 00:00:00\",\"2021-10-01 00:00:00\",\"2022-01-01 00:00:00\",\"2022-04-01 00:00:00\",\"2022-07-01 00:00:00\",\"2022-10-01 00:00:00\",\"2023-01-01 00:00:00\",\"2023-04-01 00:00:00\",\"2023-07-01 00:00:00\",\"2023-10-01 00:00:00\",\"2024-01-01 00:00:00\"],\"y\":[37.84474054656075,31.48632998689228,28.022625391288724,30.07820539479296,33.40355507270255,29.787803268898553,28.472860872576607,29.33163355086884,31.284337059042898,42.14878070108401,36.770439980781035,38.20959146679933,39.44698819247159,36.133017087115924,38.20209697991079,36.482138694390954,33.4739248372918,41.90696198209377,39.652012434148034,43.77544950918955,65.68187506257102,61.945938396564685,49.53691453570572,55.305260985723216,51.74639831163668,43.75496226446566,43.62375004985417,38.7694796128553,34.61264410053068,29.736150590469098,37.35679960743079,42.28074985807912,37.42873038704081,40.20968460736458],\"type\":\"scatter\"},{\"mode\":\"lines\",\"name\":\"Property Return\",\"x\":[\"2015-10-01 00:00:00\",\"2016-01-01 00:00:00\",\"2016-04-01 00:00:00\",\"2016-07-01 00:00:00\",\"2016-10-01 00:00:00\",\"2017-01-01 00:00:00\",\"2017-04-01 00:00:00\",\"2017-07-01 00:00:00\",\"2017-10-01 00:00:00\",\"2018-01-01 00:00:00\",\"2018-04-01 00:00:00\",\"2018-07-01 00:00:00\",\"2018-10-01 00:00:00\",\"2019-01-01 00:00:00\",\"2019-04-01 00:00:00\",\"2019-07-01 00:00:00\",\"2019-10-01 00:00:00\",\"2020-01-01 00:00:00\",\"2020-04-01 00:00:00\",\"2020-07-01 00:00:00\",\"2020-10-01 00:00:00\",\"2021-01-01 00:00:00\",\"2021-04-01 00:00:00\",\"2021-07-01 00:00:00\",\"2021-10-01 00:00:00\",\"2022-01-01 00:00:00\",\"2022-04-01 00:00:00\",\"2022-07-01 00:00:00\",\"2022-10-01 00:00:00\",\"2023-01-01 00:00:00\",\"2023-04-01 00:00:00\",\"2023-07-01 00:00:00\",\"2023-10-01 00:00:00\",\"2024-01-01 00:00:00\"],\"y\":[3.116430486403676,3.117059891107078,3.1110698916753226,3.1107884419921588,3.0614501382096533,3.0009674521456704,2.9862403885066775,2.941734240125556,2.8886344845131338,2.815153374233129,2.734193624418125,2.6102953586497892,2.4226809622872993,2.2907515923566875,2.16837453256277,2.026904182544419,1.953576356433881,1.9452139119729148,1.9693211202173817,1.978878748370274,2.0606816292601833,2.1474900433279354,2.3550290646468204,2.52963713228818,2.64607650273224,2.8148978246539222,3.0934766197433277,3.0768854282536147,3.0145070738827755,3.0652342502623053,3.204573689780518,3.306571375533692,3.3433239962651733,3.444103918147956],\"type\":\"scatter\"},{\"mode\":\"lines\",\"name\":\"Property x5 Leverage Return\",\"x\":[\"2015-10-01 00:00:00\",\"2016-01-01 00:00:00\",\"2016-04-01 00:00:00\",\"2016-07-01 00:00:00\",\"2016-10-01 00:00:00\",\"2017-01-01 00:00:00\",\"2017-04-01 00:00:00\",\"2017-07-01 00:00:00\",\"2017-10-01 00:00:00\",\"2018-01-01 00:00:00\",\"2018-04-01 00:00:00\",\"2018-07-01 00:00:00\",\"2018-10-01 00:00:00\",\"2019-01-01 00:00:00\",\"2019-04-01 00:00:00\",\"2019-07-01 00:00:00\",\"2019-10-01 00:00:00\",\"2020-01-01 00:00:00\",\"2020-04-01 00:00:00\",\"2020-07-01 00:00:00\",\"2020-10-01 00:00:00\",\"2021-01-01 00:00:00\",\"2021-04-01 00:00:00\",\"2021-07-01 00:00:00\",\"2021-10-01 00:00:00\",\"2022-01-01 00:00:00\",\"2022-04-01 00:00:00\",\"2022-07-01 00:00:00\",\"2022-10-01 00:00:00\",\"2023-01-01 00:00:00\",\"2023-04-01 00:00:00\",\"2023-07-01 00:00:00\",\"2023-10-01 00:00:00\",\"2024-01-01 00:00:00\"],\"y\":[19.58215243201838,19.58529945553539,19.55534945837661,19.553942209960795,19.307250691048267,19.00483726072835,18.931201942533388,18.70867120062778,18.44317242256567,18.075766871165644,17.670968122090624,17.051476793248945,16.113404811436496,15.453757961783438,14.841872662813849,14.134520912722095,13.767881782169406,13.726069559864573,13.846605601086909,13.89439374185137,14.303408146300917,14.737450216639676,15.775145323234103,16.648185661440902,17.2303825136612,18.07448912326961,19.46738309871664,19.384427141268073,19.072535369413878,19.32617125131153,20.02286844890259,20.53285687766846,20.716619981325866,21.22051959073978],\"type\":\"scatter\"}],                        {\"template\":{\"data\":{\"barpolar\":[{\"marker\":{\"line\":{\"color\":\"white\",\"width\":0.5},\"pattern\":{\"fillmode\":\"overlay\",\"size\":10,\"solidity\":0.2}},\"type\":\"barpolar\"}],\"bar\":[{\"error_x\":{\"color\":\"#2a3f5f\"},\"error_y\":{\"color\":\"#2a3f5f\"},\"marker\":{\"line\":{\"color\":\"white\",\"width\":0.5},\"pattern\":{\"fillmode\":\"overlay\",\"size\":10,\"solidity\":0.2}},\"type\":\"bar\"}],\"carpet\":[{\"aaxis\":{\"endlinecolor\":\"#2a3f5f\",\"gridcolor\":\"#C8D4E3\",\"linecolor\":\"#C8D4E3\",\"minorgridcolor\":\"#C8D4E3\",\"startlinecolor\":\"#2a3f5f\"},\"baxis\":{\"endlinecolor\":\"#2a3f5f\",\"gridcolor\":\"#C8D4E3\",\"linecolor\":\"#C8D4E3\",\"minorgridcolor\":\"#C8D4E3\",\"startlinecolor\":\"#2a3f5f\"},\"type\":\"carpet\"}],\"choropleth\":[{\"colorbar\":{\"outlinewidth\":0,\"ticks\":\"\"},\"type\":\"choropleth\"}],\"contourcarpet\":[{\"colorbar\":{\"outlinewidth\":0,\"ticks\":\"\"},\"type\":\"contourcarpet\"}],\"contour\":[{\"colorbar\":{\"outlinewidth\":0,\"ticks\":\"\"},\"colorscale\":[[0.0,\"#0d0887\"],[0.1111111111111111,\"#46039f\"],[0.2222222222222222,\"#7201a8\"],[0.3333333333333333,\"#9c179e\"],[0.4444444444444444,\"#bd3786\"],[0.5555555555555556,\"#d8576b\"],[0.6666666666666666,\"#ed7953\"],[0.7777777777777778,\"#fb9f3a\"],[0.8888888888888888,\"#fdca26\"],[1.0,\"#f0f921\"]],\"type\":\"contour\"}],\"heatmapgl\":[{\"colorbar\":{\"outlinewidth\":0,\"ticks\":\"\"},\"colorscale\":[[0.0,\"#0d0887\"],[0.1111111111111111,\"#46039f\"],[0.2222222222222222,\"#7201a8\"],[0.3333333333333333,\"#9c179e\"],[0.4444444444444444,\"#bd3786\"],[0.5555555555555556,\"#d8576b\"],[0.6666666666666666,\"#ed7953\"],[0.7777777777777778,\"#fb9f3a\"],[0.8888888888888888,\"#fdca26\"],[1.0,\"#f0f921\"]],\"type\":\"heatmapgl\"}],\"heatmap\":[{\"colorbar\":{\"outlinewidth\":0,\"ticks\":\"\"},\"colorscale\":[[0.0,\"#0d0887\"],[0.1111111111111111,\"#46039f\"],[0.2222222222222222,\"#7201a8\"],[0.3333333333333333,\"#9c179e\"],[0.4444444444444444,\"#bd3786\"],[0.5555555555555556,\"#d8576b\"],[0.6666666666666666,\"#ed7953\"],[0.7777777777777778,\"#fb9f3a\"],[0.8888888888888888,\"#fdca26\"],[1.0,\"#f0f921\"]],\"type\":\"heatmap\"}],\"histogram2dcontour\":[{\"colorbar\":{\"outlinewidth\":0,\"ticks\":\"\"},\"colorscale\":[[0.0,\"#0d0887\"],[0.1111111111111111,\"#46039f\"],[0.2222222222222222,\"#7201a8\"],[0.3333333333333333,\"#9c179e\"],[0.4444444444444444,\"#bd3786\"],[0.5555555555555556,\"#d8576b\"],[0.6666666666666666,\"#ed7953\"],[0.7777777777777778,\"#fb9f3a\"],[0.8888888888888888,\"#fdca26\"],[1.0,\"#f0f921\"]],\"type\":\"histogram2dcontour\"}],\"histogram2d\":[{\"colorbar\":{\"outlinewidth\":0,\"ticks\":\"\"},\"colorscale\":[[0.0,\"#0d0887\"],[0.1111111111111111,\"#46039f\"],[0.2222222222222222,\"#7201a8\"],[0.3333333333333333,\"#9c179e\"],[0.4444444444444444,\"#bd3786\"],[0.5555555555555556,\"#d8576b\"],[0.6666666666666666,\"#ed7953\"],[0.7777777777777778,\"#fb9f3a\"],[0.8888888888888888,\"#fdca26\"],[1.0,\"#f0f921\"]],\"type\":\"histogram2d\"}],\"histogram\":[{\"marker\":{\"pattern\":{\"fillmode\":\"overlay\",\"size\":10,\"solidity\":0.2}},\"type\":\"histogram\"}],\"mesh3d\":[{\"colorbar\":{\"outlinewidth\":0,\"ticks\":\"\"},\"type\":\"mesh3d\"}],\"parcoords\":[{\"line\":{\"colorbar\":{\"outlinewidth\":0,\"ticks\":\"\"}},\"type\":\"parcoords\"}],\"pie\":[{\"automargin\":true,\"type\":\"pie\"}],\"scatter3d\":[{\"line\":{\"colorbar\":{\"outlinewidth\":0,\"ticks\":\"\"}},\"marker\":{\"colorbar\":{\"outlinewidth\":0,\"ticks\":\"\"}},\"type\":\"scatter3d\"}],\"scattercarpet\":[{\"marker\":{\"colorbar\":{\"outlinewidth\":0,\"ticks\":\"\"}},\"type\":\"scattercarpet\"}],\"scattergeo\":[{\"marker\":{\"colorbar\":{\"outlinewidth\":0,\"ticks\":\"\"}},\"type\":\"scattergeo\"}],\"scattergl\":[{\"marker\":{\"colorbar\":{\"outlinewidth\":0,\"ticks\":\"\"}},\"type\":\"scattergl\"}],\"scattermapbox\":[{\"marker\":{\"colorbar\":{\"outlinewidth\":0,\"ticks\":\"\"}},\"type\":\"scattermapbox\"}],\"scatterpolargl\":[{\"marker\":{\"colorbar\":{\"outlinewidth\":0,\"ticks\":\"\"}},\"type\":\"scatterpolargl\"}],\"scatterpolar\":[{\"marker\":{\"colorbar\":{\"outlinewidth\":0,\"ticks\":\"\"}},\"type\":\"scatterpolar\"}],\"scatter\":[{\"fillpattern\":{\"fillmode\":\"overlay\",\"size\":10,\"solidity\":0.2},\"type\":\"scatter\"}],\"scatterternary\":[{\"marker\":{\"colorbar\":{\"outlinewidth\":0,\"ticks\":\"\"}},\"type\":\"scatterternary\"}],\"surface\":[{\"colorbar\":{\"outlinewidth\":0,\"ticks\":\"\"},\"colorscale\":[[0.0,\"#0d0887\"],[0.1111111111111111,\"#46039f\"],[0.2222222222222222,\"#7201a8\"],[0.3333333333333333,\"#9c179e\"],[0.4444444444444444,\"#bd3786\"],[0.5555555555555556,\"#d8576b\"],[0.6666666666666666,\"#ed7953\"],[0.7777777777777778,\"#fb9f3a\"],[0.8888888888888888,\"#fdca26\"],[1.0,\"#f0f921\"]],\"type\":\"surface\"}],\"table\":[{\"cells\":{\"fill\":{\"color\":\"#EBF0F8\"},\"line\":{\"color\":\"white\"}},\"header\":{\"fill\":{\"color\":\"#C8D4E3\"},\"line\":{\"color\":\"white\"}},\"type\":\"table\"}]},\"layout\":{\"annotationdefaults\":{\"arrowcolor\":\"#2a3f5f\",\"arrowhead\":0,\"arrowwidth\":1},\"autotypenumbers\":\"strict\",\"coloraxis\":{\"colorbar\":{\"outlinewidth\":0,\"ticks\":\"\"}},\"colorscale\":{\"diverging\":[[0,\"#8e0152\"],[0.1,\"#c51b7d\"],[0.2,\"#de77ae\"],[0.3,\"#f1b6da\"],[0.4,\"#fde0ef\"],[0.5,\"#f7f7f7\"],[0.6,\"#e6f5d0\"],[0.7,\"#b8e186\"],[0.8,\"#7fbc41\"],[0.9,\"#4d9221\"],[1,\"#276419\"]],\"sequential\":[[0.0,\"#0d0887\"],[0.1111111111111111,\"#46039f\"],[0.2222222222222222,\"#7201a8\"],[0.3333333333333333,\"#9c179e\"],[0.4444444444444444,\"#bd3786\"],[0.5555555555555556,\"#d8576b\"],[0.6666666666666666,\"#ed7953\"],[0.7777777777777778,\"#fb9f3a\"],[0.8888888888888888,\"#fdca26\"],[1.0,\"#f0f921\"]],\"sequentialminus\":[[0.0,\"#0d0887\"],[0.1111111111111111,\"#46039f\"],[0.2222222222222222,\"#7201a8\"],[0.3333333333333333,\"#9c179e\"],[0.4444444444444444,\"#bd3786\"],[0.5555555555555556,\"#d8576b\"],[0.6666666666666666,\"#ed7953\"],[0.7777777777777778,\"#fb9f3a\"],[0.8888888888888888,\"#fdca26\"],[1.0,\"#f0f921\"]]},\"colorway\":[\"#636efa\",\"#EF553B\",\"#00cc96\",\"#ab63fa\",\"#FFA15A\",\"#19d3f3\",\"#FF6692\",\"#B6E880\",\"#FF97FF\",\"#FECB52\"],\"font\":{\"color\":\"#2a3f5f\"},\"geo\":{\"bgcolor\":\"white\",\"lakecolor\":\"white\",\"landcolor\":\"white\",\"showlakes\":true,\"showland\":true,\"subunitcolor\":\"#C8D4E3\"},\"hoverlabel\":{\"align\":\"left\"},\"hovermode\":\"closest\",\"mapbox\":{\"style\":\"light\"},\"paper_bgcolor\":\"white\",\"plot_bgcolor\":\"white\",\"polar\":{\"angularaxis\":{\"gridcolor\":\"#EBF0F8\",\"linecolor\":\"#EBF0F8\",\"ticks\":\"\"},\"bgcolor\":\"white\",\"radialaxis\":{\"gridcolor\":\"#EBF0F8\",\"linecolor\":\"#EBF0F8\",\"ticks\":\"\"}},\"scene\":{\"xaxis\":{\"backgroundcolor\":\"white\",\"gridcolor\":\"#DFE8F3\",\"gridwidth\":2,\"linecolor\":\"#EBF0F8\",\"showbackground\":true,\"ticks\":\"\",\"zerolinecolor\":\"#EBF0F8\"},\"yaxis\":{\"backgroundcolor\":\"white\",\"gridcolor\":\"#DFE8F3\",\"gridwidth\":2,\"linecolor\":\"#EBF0F8\",\"showbackground\":true,\"ticks\":\"\",\"zerolinecolor\":\"#EBF0F8\"},\"zaxis\":{\"backgroundcolor\":\"white\",\"gridcolor\":\"#DFE8F3\",\"gridwidth\":2,\"linecolor\":\"#EBF0F8\",\"showbackground\":true,\"ticks\":\"\",\"zerolinecolor\":\"#EBF0F8\"}},\"shapedefaults\":{\"line\":{\"color\":\"#2a3f5f\"}},\"ternary\":{\"aaxis\":{\"gridcolor\":\"#DFE8F3\",\"linecolor\":\"#A2B1C6\",\"ticks\":\"\"},\"baxis\":{\"gridcolor\":\"#DFE8F3\",\"linecolor\":\"#A2B1C6\",\"ticks\":\"\"},\"bgcolor\":\"white\",\"caxis\":{\"gridcolor\":\"#DFE8F3\",\"linecolor\":\"#A2B1C6\",\"ticks\":\"\"}},\"title\":{\"x\":0.05},\"xaxis\":{\"automargin\":true,\"gridcolor\":\"#EBF0F8\",\"linecolor\":\"#EBF0F8\",\"ticks\":\"\",\"title\":{\"standoff\":15},\"zerolinecolor\":\"#EBF0F8\",\"zerolinewidth\":2},\"yaxis\":{\"automargin\":true,\"gridcolor\":\"#EBF0F8\",\"linecolor\":\"#EBF0F8\",\"ticks\":\"\",\"title\":{\"standoff\":15},\"zerolinecolor\":\"#EBF0F8\",\"zerolinewidth\":2}}},\"title\":{\"text\":\"NQ100 and Property Returns Over 30 Years\"},\"xaxis\":{\"title\":{\"text\":\"Current Month\"}},\"yaxis\":{\"title\":{\"text\":\"Values\"}}},                        {\"responsive\": true}                    ).then(function(){\n",
       "                            \n",
       "var gd = document.getElementById('b301e451-7ffe-46e7-b81f-bfe78bad1d94');\n",
       "var x = new MutationObserver(function (mutations, observer) {{\n",
       "        var display = window.getComputedStyle(gd).display;\n",
       "        if (!display || display === 'none') {{\n",
       "            console.log([gd, 'removed!']);\n",
       "            Plotly.purge(gd);\n",
       "            observer.disconnect();\n",
       "        }}\n",
       "}});\n",
       "\n",
       "// Listen for the removal of the full notebook cells\n",
       "var notebookContainer = gd.closest('#notebook-container');\n",
       "if (notebookContainer) {{\n",
       "    x.observe(notebookContainer, {childList: true});\n",
       "}}\n",
       "\n",
       "// Listen for the clearing of the current output cell\n",
       "var outputEl = gd.closest('.output');\n",
       "if (outputEl) {{\n",
       "    x.observe(outputEl, {childList: true});\n",
       "}}\n",
       "\n",
       "                        })                };                });            </script>        </div>"
      ]
     },
     "metadata": {},
     "output_type": "display_data"
    }
   ],
   "source": [
    "import pandas as pd\n",
    "import plotly.graph_objects as go\n",
    "\n",
    "def plot_data(df):\n",
    "    # Create a Plotly figure\n",
    "    fig = go.Figure()\n",
    "\n",
    "    # Plot nq100_return\n",
    "    fig.add_trace(go.Scatter(x=df['current_month'],\n",
    "                             y=df['nq100_return'],\n",
    "                             mode='lines',\n",
    "                             name='NQ100 Return'))\n",
    "\n",
    "    # Plot property_return\n",
    "    fig.add_trace(go.Scatter(x=df['current_month'],\n",
    "                             y=df['property_return'],\n",
    "                             mode='lines',\n",
    "                             name='Property Return'))\n",
    "\n",
    "    # Plot property_x_5_leverage_return\n",
    "    fig.add_trace(go.Scatter(x=df['current_month'],\n",
    "                             y=df['property_x_5_leverage_return'],\n",
    "                             mode='lines',\n",
    "                             name='Property x5 Leverage Return'))\n",
    "\n",
    "    # Update layout\n",
    "    fig.update_layout(title=f'NQ100 and Property Returns Over {holding_year} Years',\n",
    "                      xaxis_title='Current Month',\n",
    "                      yaxis_title='Values',\n",
    "                      template='plotly_white')\n",
    "\n",
    "    # Show the plot\n",
    "    fig.show()\n",
    "\n",
    "# Call the function to plot the data\n",
    "plot_data(return_date)"
   ]
  },
  {
   "cell_type": "markdown",
   "id": "d53c9ff9-1a31-4356-af42-3fe2fdf75937",
   "metadata": {},
   "source": [
    "# show the return median"
   ]
  },
  {
   "cell_type": "code",
   "execution_count": 27,
   "id": "db42986e-1efb-4dfd-9d67-4543395089ac",
   "metadata": {
    "tags": []
   },
   "outputs": [
    {
     "data": {
      "text/plain": [
       "nq100_return                    38.023419\n",
       "property_return                  2.851894\n",
       "property_x_5_leverage_return    18.259470\n",
       "dtype: float64"
      ]
     },
     "execution_count": 27,
     "metadata": {},
     "output_type": "execute_result"
    }
   ],
   "source": [
    "return_date[[\n",
    "'nq100_return',\n",
    "'property_return',\n",
    "f'property_x_{leverage_rate}_leverage_return'\n",
    "]].median()"
   ]
  },
  {
   "cell_type": "markdown",
   "id": "5b8ff00d-be0b-497e-8229-63556a056014",
   "metadata": {},
   "source": [
    "# show the return average"
   ]
  },
  {
   "cell_type": "code",
   "execution_count": 28,
   "id": "036306bf-36b2-4af2-a4b0-5f4e0449ad61",
   "metadata": {
    "tags": []
   },
   "outputs": [
    {
     "data": {
      "text/plain": [
       "nq100_return                    39.350083\n",
       "property_return                  2.716241\n",
       "property_x_5_leverage_return    17.581207\n",
       "dtype: float64"
      ]
     },
     "execution_count": 28,
     "metadata": {},
     "output_type": "execute_result"
    }
   ],
   "source": [
    "return_date[[\n",
    "'nq100_return',\n",
    "'property_return',\n",
    "f'property_x_{leverage_rate}_leverage_return'\n",
    "]].mean()"
   ]
  },
  {
   "cell_type": "markdown",
   "id": "641b495a-7652-4c11-ad04-3984fecaf6ea",
   "metadata": {},
   "source": [
    "# save the returns to excel "
   ]
  },
  {
   "cell_type": "code",
   "execution_count": 30,
   "id": "0fc5159e-42ad-4c10-98d5-59f46dc46426",
   "metadata": {
    "tags": []
   },
   "outputs": [],
   "source": [
    "return_date.to_excel(f'california_property_price_vs_nq100.xlsx', index = False)"
   ]
  },
  {
   "cell_type": "markdown",
   "id": "5333138a-5a6f-43ee-8cac-814302395167",
   "metadata": {},
   "source": [
    "# end"
   ]
  }
 ],
 "metadata": {
  "kernelspec": {
   "display_name": "Python 3 (ipykernel)",
   "language": "python",
   "name": "python3"
  },
  "language_info": {
   "codemirror_mode": {
    "name": "ipython",
    "version": 3
   },
   "file_extension": ".py",
   "mimetype": "text/x-python",
   "name": "python",
   "nbconvert_exporter": "python",
   "pygments_lexer": "ipython3",
   "version": "3.11.5"
  }
 },
 "nbformat": 4,
 "nbformat_minor": 5
}
